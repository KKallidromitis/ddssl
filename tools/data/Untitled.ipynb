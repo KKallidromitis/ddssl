{
 "cells": [
  {
   "cell_type": "code",
   "execution_count": 1,
   "id": "4ef48fa5",
   "metadata": {},
   "outputs": [
    {
     "name": "stdout",
     "output_type": "stream",
     "text": [
      "python3: can't open file 'tools/data/build_file_list.py': [Errno 2] No such file or directory\r\n"
     ]
    }
   ],
   "source": [
    "!python3 tools/data/build_file_list.py kinetics400 data/kinetics400/videos_train/ --level 2 --format videos --num-split 1 --subset train --shuffle"
   ]
  },
  {
   "cell_type": "code",
   "execution_count": 2,
   "id": "a647a324",
   "metadata": {},
   "outputs": [
    {
     "name": "stdout",
     "output_type": "stream",
     "text": [
      "python3: can't open file 'tools/data/build_file_list.py': [Errno 2] No such file or directory\r\n"
     ]
    }
   ],
   "source": [
    "!python3 tools/data/build_file_list.py kinetics400 data/kinetics400/videos_val/ --level 2 --format videos --num-split 1 --subset val --shuffle"
   ]
  },
  {
   "cell_type": "code",
   "execution_count": null,
   "id": "e69c77cc",
   "metadata": {},
   "outputs": [],
   "source": []
  }
 ],
 "metadata": {
  "kernelspec": {
   "display_name": "Python 3 (ipykernel)",
   "language": "python",
   "name": "python3"
  },
  "language_info": {
   "codemirror_mode": {
    "name": "ipython",
    "version": 3
   },
   "file_extension": ".py",
   "mimetype": "text/x-python",
   "name": "python",
   "nbconvert_exporter": "python",
   "pygments_lexer": "ipython3",
   "version": "3.7.15"
  }
 },
 "nbformat": 4,
 "nbformat_minor": 5
}
