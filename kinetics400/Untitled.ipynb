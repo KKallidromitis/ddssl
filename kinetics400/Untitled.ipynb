{
 "cells": [
  {
   "cell_type": "code",
   "execution_count": 1,
   "id": "575bf94b",
   "metadata": {},
   "outputs": [],
   "source": [
    "import pandas as pd\n",
    "import os\n",
    "import shutil\n",
    "\n",
    "import uuid\n",
    "import subprocess\n",
    "import glob\n",
    "\n",
    "from collections import OrderedDict\n",
    "from joblib import Parallel, delayed"
   ]
  },
  {
   "cell_type": "code",
   "execution_count": 2,
   "id": "7b291a1c",
   "metadata": {},
   "outputs": [],
   "source": [
    "def parse_kinetics_annotations(input_csv, ignore_is_cc=False):\n",
    "    \"\"\"Returns a parsed DataFrame.\n",
    "    arguments:\n",
    "    ---------\n",
    "    input_csv: str\n",
    "        Path to CSV file containing the following columns:\n",
    "          'YouTube Identifier,Start time,End time,Class label'\n",
    "    returns:\n",
    "    -------\n",
    "    dataset: DataFrame\n",
    "        Pandas with the following columns:\n",
    "            'video-id', 'start-time', 'end-time', 'label-name'\n",
    "    \"\"\"\n",
    "    df = pd.read_csv(input_csv)\n",
    "    if 'youtube_id' in df.columns:\n",
    "        columns = OrderedDict([('youtube_id', 'video-id'),\n",
    "                               ('time_start', 'start-time'),\n",
    "                               ('time_end', 'end-time'),\n",
    "                               ('label', 'label-name')])\n",
    "        df.rename(columns=columns, inplace=True)\n",
    "        if ignore_is_cc:\n",
    "            df = df.loc[:, df.columns.tolist()[:-1]]\n",
    "    return df"
   ]
  },
  {
   "cell_type": "code",
   "execution_count": 3,
   "id": "95eb6509",
   "metadata": {},
   "outputs": [],
   "source": [
    "dataset = parse_kinetics_annotations('/mnt/homes/kos/kinetics400/annotations/kinetics_val.csv')"
   ]
  },
  {
   "cell_type": "code",
   "execution_count": 4,
   "id": "8c90162d",
   "metadata": {},
   "outputs": [],
   "source": [
    "def create_video_folders(dataset, output_dir):\n",
    "    \"\"\"Creates a directory for each label name in the dataset.\"\"\"\n",
    "    if 'label-name' not in dataset.columns:\n",
    "        this_dir = os.path.join(output_dir, 'test')\n",
    "        if not os.path.exists(this_dir):\n",
    "            os.makedirs(this_dir)\n",
    "        # I should return a dict but ...\n",
    "        return this_dir\n",
    "    if not os.path.exists(output_dir):\n",
    "        os.makedirs(output_dir)\n",
    "\n",
    "    label_to_dir = {}\n",
    "    for label_name in dataset['label-name'].unique():\n",
    "        this_dir = os.path.join(output_dir, label_name)\n",
    "        if not os.path.exists(this_dir):\n",
    "            os.makedirs(this_dir)\n",
    "        label_to_dir[label_name] = this_dir\n",
    "    return label_to_dir"
   ]
  },
  {
   "cell_type": "code",
   "execution_count": 5,
   "id": "72cf97a3",
   "metadata": {},
   "outputs": [],
   "source": [
    "input_dir = '/mnt/homes/kos/kinetics-dataset/kinetics400/val'\n",
    "output_dir = '/mnt/homes/kos/kinetics400/videos_val'\n",
    "label_to_dir = create_video_folders(dataset, output_dir)"
   ]
  },
  {
   "cell_type": "code",
   "execution_count": 6,
   "id": "9aa8a781",
   "metadata": {},
   "outputs": [],
   "source": [
    "def construct_video_filename(row, label_to_dir,input_dir, trim_format='%06d'):\n",
    "    \"\"\"Given a dataset row, this function constructs the output filename for a\n",
    "    given video.\"\"\"\n",
    "    basename = '%s_%s_%s.mp4' % (row['video-id'],\n",
    "                                 trim_format % row['start-time'],\n",
    "                                 trim_format % row['end-time'])\n",
    "    if not isinstance(label_to_dir, dict):\n",
    "        dirname = label_to_dir\n",
    "    else:\n",
    "        dirname = label_to_dir[row['label-name']]\n",
    "    output_filename = os.path.join(dirname, basename)\n",
    "    input_filename = os.path.join(input_dir, basename)\n",
    "    return input_filename,output_filename"
   ]
  },
  {
   "cell_type": "code",
   "execution_count": 7,
   "id": "ee0fa517",
   "metadata": {},
   "outputs": [],
   "source": [
    "def move_clip(input_filename,output_filename):\n",
    "    try :\n",
    "        shutil.move(input_filename,output_filename)\n",
    "        return [True, 'Moved']\n",
    "    except Exception as e:\n",
    "        return [False, e.args[0]]"
   ]
  },
  {
   "cell_type": "code",
   "execution_count": 8,
   "id": "6ad70d16",
   "metadata": {},
   "outputs": [],
   "source": [
    "def move_clip_wrapper(row, label_to_dir,input_dir, trim_format):\n",
    "    \"\"\"Wrapper for parallel processing purposes.\"\"\"\n",
    "    input_filename,output_filename = construct_video_filename(row, label_to_dir,input_dir, trim_format)\n",
    "    clip_id = os.path.basename(output_filename).split('.mp4')[0]\n",
    "    \n",
    "    if os.path.exists(output_filename):\n",
    "        status = tuple([clip_id, False, 'Exists'])\n",
    "        return status\n",
    "    moved, log = move_clip(input_filename,output_filename)\n",
    "    status = tuple([clip_id, moved, log])\n",
    "    \n",
    "    if status[2]!='Moved':\n",
    "        print(status)\n",
    "        \n",
    "    return status"
   ]
  },
  {
   "cell_type": "code",
   "execution_count": 9,
   "id": "694ed751",
   "metadata": {},
   "outputs": [
    {
     "name": "stdout",
     "output_type": "stream",
     "text": [
      "('DWE7WQkBvBc_000249_000259', False, 2)\n",
      "('-3l8q12D7lA_000015_000025', False, 2)\n",
      "('ioNctElzaas_000141_000151', False, 2)\n",
      "('7tTouR10Qro_000092_000102', False, 2)\n",
      "('wvsuK9HBif0_000244_000254', False, 2)\n",
      "('PWZGh3gt77w_000006_000016', False, 2)\n",
      "('v7DhQiuKEd0_000043_000053', False, 2)\n",
      "('H8Ny92IEyaM_000013_000023', False, 2)\n",
      "('u4SSk4kWqLA_000002_000012', False, 2)\n",
      "('I02uj1Sc7TM_000031_000041', False, 2)\n",
      "('A1tjKmdQ2K4_000008_000018', False, 2)\n",
      "('aVXC13LEJgU_000004_000014', False, 2)\n",
      "('maTza6_l40M_000624_000634', False, 2)\n",
      "('IjFrO11sQng_000022_000032', False, 2)\n",
      "('vI8Vp2-gfiU_000014_000024', False, 2)\n",
      "('PcOAmaZMNZY_000041_000051', False, 2)\n",
      "('UZLHav3t_NQ_000051_000061', False, 2)\n",
      "('v3H4Y1tKhp8_000010_000020', False, 2)\n",
      "('9aSI6RpUZRE_000003_000013', False, 2)\n",
      "('ctWolbJDJyc_000011_000021', False, 2)\n",
      "('ieIssRi8iXU_000030_000040', False, 2)\n",
      "('j4Anoe2ug8k_000042_000052', False, 2)\n",
      "('DYPEKYAcEFg_000243_000253', False, 2)\n",
      "('SaJWnqViSLo_000023_000033', False, 2)\n",
      "('5sx6NEtkd1E_000206_000216', False, 2)\n"
     ]
    }
   ],
   "source": [
    "num_jobs = 20\n",
    "trim_format='%06d'\n",
    "status_lst = Parallel(n_jobs=num_jobs)(delayed(move_clip_wrapper)\n",
    "                                       (row, label_to_dir, input_dir, trim_format) for i, row in dataset.iterrows())"
   ]
  },
  {
   "cell_type": "code",
   "execution_count": null,
   "id": "58d97a4e",
   "metadata": {},
   "outputs": [],
   "source": []
  }
 ],
 "metadata": {
  "kernelspec": {
   "display_name": "Python 3 (ipykernel)",
   "language": "python",
   "name": "python3"
  },
  "language_info": {
   "codemirror_mode": {
    "name": "ipython",
    "version": 3
   },
   "file_extension": ".py",
   "mimetype": "text/x-python",
   "name": "python",
   "nbconvert_exporter": "python",
   "pygments_lexer": "ipython3",
   "version": "3.7.15"
  }
 },
 "nbformat": 4,
 "nbformat_minor": 5
}
