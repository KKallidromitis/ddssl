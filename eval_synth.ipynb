{
 "cells": [
  {
   "cell_type": "code",
   "execution_count": null,
   "id": "db2309ac",
   "metadata": {},
   "outputs": [],
   "source": [
    "import torch\n",
    "import copy\n",
    "from utils import evaluate_synset,get_daparam,get_network,get_dataset,ParamDiffAug\n",
    "import os\n",
    "import numpy as np\n",
    "os.environ[\"CUDA_VISIBLE_DEVICES\"]=\"0\"\n",
    "os.environ[\"NCCL_P2P_DISABLE\"]=\"1\""
   ]
  },
  {
   "cell_type": "code",
   "execution_count": null,
   "id": "731d269b",
   "metadata": {},
   "outputs": [],
   "source": [
    "syn_data = torch.load('syn_data/res_DC_CIFAR100_ConvNet_10ipc.pt') #res_DSA_MNIST_ConvNet_1ipc.pt\n",
    "eval_it_pool = [1000] \n",
    "model_eval_pool = ['MLP', 'ConvNet', 'LeNet', 'AlexNet', 'VGG11', 'ResNet18']\n",
    "model='ConvNet'\n",
    "it=1000\n",
    "dataset='CIFAR100'#'MNIST'\n",
    "ipc=10\n",
    "num_eval=5\n",
    "channel=1\n",
    "num_classes=100 #10\n",
    "im_size=(32,32) #(28,28)\n",
    "\n",
    "data_path='data'\n",
    "channel, im_size, num_classes, class_names, mean, std, dst_train, dst_test, testloader = get_dataset(dataset, data_path)\n",
    "\n",
    "accs_all_exps = dict() # record performances of all experiments\n",
    "for key in model_eval_pool:\n",
    "    accs_all_exps[key] = []"
   ]
  },
  {
   "cell_type": "code",
   "execution_count": null,
   "id": "3be1c8eb",
   "metadata": {},
   "outputs": [],
   "source": [
    "class arguments:\n",
    "    pass\n",
    "args = arguments()"
   ]
  },
  {
   "cell_type": "code",
   "execution_count": null,
   "id": "7b95c42f",
   "metadata": {},
   "outputs": [],
   "source": [
    "args.device='cuda' if torch.cuda.is_available() else 'cpu'\n",
    "args.lr_net=0.01\n",
    "args.epoch_eval_train=300\n",
    "args.batch_train=256\n",
    "args.dsa=True\n",
    "args.dsa_strategy='color_crop_cutout_flip_scale_rotate' #'color_crop_cutout_scale_rotate'\n",
    "args.Iteration=1000\n",
    "args.dsa_param = ParamDiffAug()"
   ]
  },
  {
   "cell_type": "code",
   "execution_count": null,
   "id": "f8f64f56",
   "metadata": {
    "scrolled": false
   },
   "outputs": [],
   "source": [
    "for syn in range(1):\n",
    "    image_syn = syn_data['data'][syn][0]\n",
    "    label_syn = syn_data['data'][syn][1]\n",
    "    ''' Evaluate synthetic data '''\n",
    "    for model_eval in model_eval_pool:\n",
    "        print('-------------------------\\nEvaluation\\nmodel_train = %s, model_eval = %s, iteration = %d'%(model, model_eval, it))\n",
    "\n",
    "        if args.dsa:\n",
    "            epoch_eval_train = 1000\n",
    "            args.dc_aug_param = None\n",
    "            print('DSA augmentation strategy: \\n', args.dsa_strategy)\n",
    "            print('DSA augmentation parameters: \\n', args.dsa_param.__dict__)\n",
    "        else:\n",
    "            args.dc_aug_param = get_daparam(dataset, model, model_eval, ipc) # This augmentation parameter set is only for DC method. It will be muted when args.dsa is True.\n",
    "            print('DC augmentation parameters: \\n', args.dc_aug_param)\n",
    "\n",
    "        if args.dsa or args.dc_aug_param['strategy'] != 'none':\n",
    "            epoch_eval_train = 1000  # Training with data augmentation needs more epochs.\n",
    "        else:\n",
    "            epoch_eval_train = 300\n",
    "\n",
    "        accs = []\n",
    "        for it_eval in range(num_eval):\n",
    "            net_eval = get_network(model_eval, channel, num_classes, im_size).to(args.device) # get a random model\n",
    "            image_syn_eval, label_syn_eval = copy.deepcopy(image_syn.detach()), copy.deepcopy(label_syn.detach()) # avoid any unaware modification\n",
    "            _, acc_train, acc_test = evaluate_synset(it_eval, net_eval, image_syn_eval, label_syn_eval, testloader, args)\n",
    "            accs.append(acc_test)\n",
    "        print('Evaluate %d random %s, mean = %.4f std = %.4f\\n-------------------------'%(len(accs), model_eval, np.mean(accs), np.std(accs)))\n",
    "\n",
    "        if it == args.Iteration: # record the final results\n",
    "            accs_all_exps[model_eval] += accs"
   ]
  },
  {
   "cell_type": "code",
   "execution_count": null,
   "id": "6cc4dd63",
   "metadata": {},
   "outputs": [],
   "source": []
  }
 ],
 "metadata": {
  "kernelspec": {
   "display_name": "Python 3 (ipykernel)",
   "language": "python",
   "name": "python3"
  },
  "language_info": {
   "codemirror_mode": {
    "name": "ipython",
    "version": 3
   },
   "file_extension": ".py",
   "mimetype": "text/x-python",
   "name": "python",
   "nbconvert_exporter": "python",
   "pygments_lexer": "ipython3",
   "version": "3.9.7"
  }
 },
 "nbformat": 4,
 "nbformat_minor": 5
}
